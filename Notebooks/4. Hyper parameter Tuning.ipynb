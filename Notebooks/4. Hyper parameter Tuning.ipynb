{
 "cells": [
  {
   "cell_type": "code",
   "execution_count": 26,
   "id": "56b8d5cc",
   "metadata": {},
   "outputs": [],
   "source": [
    "# imporitng libraries\n",
    "\n",
    "import pandas as pd\n",
    "import numpy as np\n",
    "import seaborn as sb\n",
    "\n",
    "from sklearn.model_selection import train_test_split\n",
    "from sklearn.model_selection import RandomizedSearchCV,GridSearchCV\n",
    "from sklearn.ensemble import RandomForestRegressor\n",
    "import xgboost as xgb\n"
   ]
  },
  {
   "cell_type": "code",
   "execution_count": 27,
   "id": "24c214b9",
   "metadata": {},
   "outputs": [],
   "source": [
    "home_df= pd.read_csv(\"../dataframes/model_data.csv\")"
   ]
  },
  {
   "cell_type": "code",
   "execution_count": 28,
   "id": "6b801124",
   "metadata": {},
   "outputs": [
    {
     "data": {
      "text/html": [
       "<div>\n",
       "<style scoped>\n",
       "    .dataframe tbody tr th:only-of-type {\n",
       "        vertical-align: middle;\n",
       "    }\n",
       "\n",
       "    .dataframe tbody tr th {\n",
       "        vertical-align: top;\n",
       "    }\n",
       "\n",
       "    .dataframe thead th {\n",
       "        text-align: right;\n",
       "    }\n",
       "</style>\n",
       "<table border=\"1\" class=\"dataframe\">\n",
       "  <thead>\n",
       "    <tr style=\"text-align: right;\">\n",
       "      <th></th>\n",
       "      <th>Neighborhood_Review</th>\n",
       "      <th>Furnishing</th>\n",
       "      <th>Crime_Rate</th>\n",
       "      <th>Power_Backup</th>\n",
       "      <th>Frequency_of_Powercuts</th>\n",
       "      <th>Property_Area</th>\n",
       "      <th>Once in two days</th>\n",
       "      <th>Habitability_score</th>\n",
       "    </tr>\n",
       "  </thead>\n",
       "  <tbody>\n",
       "    <tr>\n",
       "      <th>0</th>\n",
       "      <td>3.55</td>\n",
       "      <td>0</td>\n",
       "      <td>0</td>\n",
       "      <td>0</td>\n",
       "      <td>1.0</td>\n",
       "      <td>733</td>\n",
       "      <td>0</td>\n",
       "      <td>71.20</td>\n",
       "    </tr>\n",
       "    <tr>\n",
       "      <th>1</th>\n",
       "      <td>3.81</td>\n",
       "      <td>2</td>\n",
       "      <td>1</td>\n",
       "      <td>0</td>\n",
       "      <td>0.0</td>\n",
       "      <td>737</td>\n",
       "      <td>0</td>\n",
       "      <td>71.39</td>\n",
       "    </tr>\n",
       "    <tr>\n",
       "      <th>2</th>\n",
       "      <td>1.34</td>\n",
       "      <td>0</td>\n",
       "      <td>3</td>\n",
       "      <td>1</td>\n",
       "      <td>2.0</td>\n",
       "      <td>900</td>\n",
       "      <td>0</td>\n",
       "      <td>31.46</td>\n",
       "    </tr>\n",
       "    <tr>\n",
       "      <th>3</th>\n",
       "      <td>4.48</td>\n",
       "      <td>1</td>\n",
       "      <td>0</td>\n",
       "      <td>1</td>\n",
       "      <td>0.0</td>\n",
       "      <td>159</td>\n",
       "      <td>0</td>\n",
       "      <td>80.65</td>\n",
       "    </tr>\n",
       "    <tr>\n",
       "      <th>4</th>\n",
       "      <td>4.82</td>\n",
       "      <td>1</td>\n",
       "      <td>0</td>\n",
       "      <td>0</td>\n",
       "      <td>0.0</td>\n",
       "      <td>521</td>\n",
       "      <td>0</td>\n",
       "      <td>73.51</td>\n",
       "    </tr>\n",
       "  </tbody>\n",
       "</table>\n",
       "</div>"
      ],
      "text/plain": [
       "   Neighborhood_Review  Furnishing  Crime_Rate  Power_Backup  \\\n",
       "0                 3.55           0           0             0   \n",
       "1                 3.81           2           1             0   \n",
       "2                 1.34           0           3             1   \n",
       "3                 4.48           1           0             1   \n",
       "4                 4.82           1           0             0   \n",
       "\n",
       "   Frequency_of_Powercuts  Property_Area  Once in two days  Habitability_score  \n",
       "0                     1.0            733                 0               71.20  \n",
       "1                     0.0            737                 0               71.39  \n",
       "2                     2.0            900                 0               31.46  \n",
       "3                     0.0            159                 0               80.65  \n",
       "4                     0.0            521                 0               73.51  "
      ]
     },
     "execution_count": 28,
     "metadata": {},
     "output_type": "execute_result"
    }
   ],
   "source": [
    "home_df.head()"
   ]
  },
  {
   "cell_type": "code",
   "execution_count": 29,
   "id": "4227fcaf",
   "metadata": {},
   "outputs": [],
   "source": [
    "y=home_df.pop('Habitability_score')\n",
    "X = home_df"
   ]
  },
  {
   "cell_type": "markdown",
   "id": "702e93fd",
   "metadata": {},
   "source": [
    "### train-test-split"
   ]
  },
  {
   "cell_type": "code",
   "execution_count": 30,
   "id": "c17c9d9a",
   "metadata": {},
   "outputs": [],
   "source": [
    "X_train,X_test,y_train,y_test=train_test_split(X,y,test_size=0.2,random_state=12)"
   ]
  },
  {
   "cell_type": "markdown",
   "id": "d0d2f0ce",
   "metadata": {},
   "source": [
    "## Hyperparameter tuning for Random Forest"
   ]
  },
  {
   "cell_type": "code",
   "execution_count": 31,
   "id": "4e7e3bc8",
   "metadata": {},
   "outputs": [],
   "source": [
    "rf = RandomForestRegressor()"
   ]
  },
  {
   "cell_type": "code",
   "execution_count": 32,
   "id": "97ec2cc0",
   "metadata": {},
   "outputs": [],
   "source": [
    "hyper_params = [{'bootstrap': [True, False],\n",
    "                'max_depth': [ 60, 70, 80, 90, 100, 110],\n",
    "                'max_features': ['auto', 'sqrt'],\n",
    "                'min_samples_leaf': [3, 4, 5],\n",
    "                'min_samples_split': [8, 10, 12],\n",
    "                'n_estimators': [200, 400, 600, 800, 1000, 1200],\n",
    "               'criterion':['squared_error', 'absolute_error']}]\n",
    "\n"
   ]
  },
  {
   "cell_type": "code",
   "execution_count": 33,
   "id": "64155469",
   "metadata": {},
   "outputs": [],
   "source": [
    "rf_grid = RandomizedSearchCV(estimator = rf, param_distributions= hyper_params,cv = 3,n_iter=100, verbose = 5,n_jobs=-1,return_train_score=True)"
   ]
  },
  {
   "cell_type": "code",
   "execution_count": 34,
   "id": "06d1005d",
   "metadata": {},
   "outputs": [
    {
     "name": "stdout",
     "output_type": "stream",
     "text": [
      "Fitting 3 folds for each of 100 candidates, totalling 300 fits\n"
     ]
    },
    {
     "data": {
      "text/plain": [
       "RandomizedSearchCV(cv=3, estimator=RandomForestRegressor(), n_iter=100,\n",
       "                   n_jobs=-1,\n",
       "                   param_distributions=[{'bootstrap': [True, False],\n",
       "                                         'criterion': ['squared_error',\n",
       "                                                       'absolute_error'],\n",
       "                                         'max_depth': [60, 70, 80, 90, 100,\n",
       "                                                       110],\n",
       "                                         'max_features': ['auto', 'sqrt'],\n",
       "                                         'min_samples_leaf': [3, 4, 5],\n",
       "                                         'min_samples_split': [8, 10, 12],\n",
       "                                         'n_estimators': [200, 400, 600, 800,\n",
       "                                                          1000, 1200]}],\n",
       "                   return_train_score=True, verbose=5)"
      ]
     },
     "execution_count": 34,
     "metadata": {},
     "output_type": "execute_result"
    }
   ],
   "source": [
    "rf_grid.fit(X_train,y_train)"
   ]
  },
  {
   "cell_type": "code",
   "execution_count": 35,
   "id": "0ce3023b",
   "metadata": {},
   "outputs": [
    {
     "data": {
      "text/plain": [
       "{'n_estimators': 1200,\n",
       " 'min_samples_split': 12,\n",
       " 'min_samples_leaf': 4,\n",
       " 'max_features': 'auto',\n",
       " 'max_depth': 80,\n",
       " 'criterion': 'squared_error',\n",
       " 'bootstrap': True}"
      ]
     },
     "execution_count": 35,
     "metadata": {},
     "output_type": "execute_result"
    }
   ],
   "source": [
    "rf_grid.best_params_"
   ]
  },
  {
   "cell_type": "markdown",
   "id": "45240574",
   "metadata": {},
   "source": [
    "## Hyperparameter Tuning for XGBoost"
   ]
  },
  {
   "cell_type": "code",
   "execution_count": 20,
   "id": "d4581cfc",
   "metadata": {},
   "outputs": [],
   "source": [
    "xg_reg = xgb.XGBRegressor( )"
   ]
  },
  {
   "cell_type": "code",
   "execution_count": 21,
   "id": "6a247c19",
   "metadata": {},
   "outputs": [],
   "source": [
    "xg_hyper_params={\"n_estimators\":[300,400,500,600,700,800,900],\n",
    "                 \"learning_rate\":[0.1,0.001,0.01],\n",
    "                 'max_depth':[5,6,7,8,9,10]}"
   ]
  },
  {
   "cell_type": "code",
   "execution_count": 23,
   "id": "d90990cb",
   "metadata": {},
   "outputs": [],
   "source": [
    "xg_grid = GridSearchCV(estimator = xg_reg, param_grid= xg_hyper_params,cv = 3, verbose = 10,n_jobs=-1,return_train_score=True)"
   ]
  },
  {
   "cell_type": "code",
   "execution_count": 24,
   "id": "b0d2a393",
   "metadata": {},
   "outputs": [
    {
     "name": "stdout",
     "output_type": "stream",
     "text": [
      "Fitting 3 folds for each of 126 candidates, totalling 378 fits\n"
     ]
    },
    {
     "data": {
      "text/plain": [
       "GridSearchCV(cv=3,\n",
       "             estimator=XGBRegressor(base_score=None, booster=None,\n",
       "                                    callbacks=None, colsample_bylevel=None,\n",
       "                                    colsample_bynode=None,\n",
       "                                    colsample_bytree=None,\n",
       "                                    early_stopping_rounds=None,\n",
       "                                    enable_categorical=False, eval_metric=None,\n",
       "                                    gamma=None, gpu_id=None, grow_policy=None,\n",
       "                                    importance_type=None,\n",
       "                                    interaction_constraints=None,\n",
       "                                    learning_rate=None, max_bin=None,\n",
       "                                    max_cat...\n",
       "                                    max_depth=None, max_leaves=None,\n",
       "                                    min_child_weight=None, missing=nan,\n",
       "                                    monotone_constraints=None, n_estimators=100,\n",
       "                                    n_jobs=None, num_parallel_tree=None,\n",
       "                                    predictor=None, random_state=None,\n",
       "                                    reg_alpha=None, reg_lambda=None, ...),\n",
       "             n_jobs=-1,\n",
       "             param_grid={'learning_rate': [0.1, 0.001, 0.01],\n",
       "                         'max_depth': [5, 6, 7, 8, 9, 10],\n",
       "                         'n_estimators': [300, 400, 500, 600, 700, 800, 900]},\n",
       "             return_train_score=True, verbose=10)"
      ]
     },
     "execution_count": 24,
     "metadata": {},
     "output_type": "execute_result"
    }
   ],
   "source": [
    "xg_grid.fit(X_train,y_train)"
   ]
  },
  {
   "cell_type": "code",
   "execution_count": null,
   "id": "a3599dff",
   "metadata": {},
   "outputs": [],
   "source": [
    "xg_grid.best_params_"
   ]
  },
  {
   "cell_type": "markdown",
   "id": "afe57a99",
   "metadata": {},
   "source": [
    "#### At the end,"
   ]
  },
  {
   "cell_type": "markdown",
   "id": "b5611091",
   "metadata": {},
   "source": [
    "<b>Best Parameters for Random Forest :-</b> <br>\n",
    "\n",
    "bootstrap= True <br>\n",
    "criterion= 'squared_error',<br>\n",
    "max_depth= 80,<br>\n",
    "max_features='auto',<br>\n",
    "min_samples_leaf= 4,<br>\n",
    "min_samples_split=12,<br>\n",
    "n_estimators= 1200 \n",
    "\n",
    "<b>Best Parameters for XGBoost :-</b> <br>\n",
    "\n",
    "'learning_rate': 0.01,<br>\n",
    "'max_depth': 10, <br>\n",
    "'n_estimators': 700"
   ]
  },
  {
   "cell_type": "code",
   "execution_count": null,
   "id": "53e48c4c",
   "metadata": {},
   "outputs": [],
   "source": []
  }
 ],
 "metadata": {
  "kernelspec": {
   "display_name": "Python 3 (ipykernel)",
   "language": "python",
   "name": "python3"
  },
  "language_info": {
   "codemirror_mode": {
    "name": "ipython",
    "version": 3
   },
   "file_extension": ".py",
   "mimetype": "text/x-python",
   "name": "python",
   "nbconvert_exporter": "python",
   "pygments_lexer": "ipython3",
   "version": "3.9.12"
  }
 },
 "nbformat": 4,
 "nbformat_minor": 5
}
