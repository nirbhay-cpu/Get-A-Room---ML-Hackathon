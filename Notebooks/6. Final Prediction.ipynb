{
 "cells": [
  {
   "cell_type": "code",
   "execution_count": 1,
   "id": "7283e956",
   "metadata": {},
   "outputs": [],
   "source": [
    "# importing libraries\n",
    "\n",
    "import pandas as pd\n",
    "import numpy as np\n",
    "import matplotlib.pyplot as plt\n",
    "import seaborn as sb\n",
    "\n",
    "\n",
    "from sklearn.model_selection import train_test_split\n",
    "from xgboost import XGBRegressor\n",
    "\n",
    "from warnings import filterwarnings\n",
    "filterwarnings('ignore')"
   ]
  },
  {
   "cell_type": "code",
   "execution_count": 2,
   "id": "a900d2c3",
   "metadata": {},
   "outputs": [],
   "source": [
    "test_df= pd.read_csv(\"../dataset/test.csv\")"
   ]
  },
  {
   "cell_type": "code",
   "execution_count": 3,
   "id": "4fa939ed",
   "metadata": {},
   "outputs": [
    {
     "data": {
      "text/html": [
       "<div>\n",
       "<style scoped>\n",
       "    .dataframe tbody tr th:only-of-type {\n",
       "        vertical-align: middle;\n",
       "    }\n",
       "\n",
       "    .dataframe tbody tr th {\n",
       "        vertical-align: top;\n",
       "    }\n",
       "\n",
       "    .dataframe thead th {\n",
       "        text-align: right;\n",
       "    }\n",
       "</style>\n",
       "<table border=\"1\" class=\"dataframe\">\n",
       "  <thead>\n",
       "    <tr style=\"text-align: right;\">\n",
       "      <th></th>\n",
       "      <th>Property_ID</th>\n",
       "      <th>Property_Type</th>\n",
       "      <th>Property_Area</th>\n",
       "      <th>Number_of_Windows</th>\n",
       "      <th>Number_of_Doors</th>\n",
       "      <th>Furnishing</th>\n",
       "      <th>Frequency_of_Powercuts</th>\n",
       "      <th>Power_Backup</th>\n",
       "      <th>Water_Supply</th>\n",
       "      <th>Traffic_Density_Score</th>\n",
       "      <th>Crime_Rate</th>\n",
       "      <th>Dust_and_Noise</th>\n",
       "      <th>Air_Quality_Index</th>\n",
       "      <th>Neighborhood_Review</th>\n",
       "    </tr>\n",
       "  </thead>\n",
       "  <tbody>\n",
       "    <tr>\n",
       "      <th>0</th>\n",
       "      <td>0x6e93</td>\n",
       "      <td>Apartment</td>\n",
       "      <td>293</td>\n",
       "      <td>3.0</td>\n",
       "      <td>1</td>\n",
       "      <td>Unfurnished</td>\n",
       "      <td>0.0</td>\n",
       "      <td>No</td>\n",
       "      <td>Once in a day - Morning</td>\n",
       "      <td>7.28</td>\n",
       "      <td>Well above average</td>\n",
       "      <td>Medium</td>\n",
       "      <td>152.0</td>\n",
       "      <td>2.52</td>\n",
       "    </tr>\n",
       "    <tr>\n",
       "      <th>1</th>\n",
       "      <td>0x8787</td>\n",
       "      <td>Apartment</td>\n",
       "      <td>586</td>\n",
       "      <td>4.0</td>\n",
       "      <td>1</td>\n",
       "      <td>Semi_Furnished</td>\n",
       "      <td>0.0</td>\n",
       "      <td>No</td>\n",
       "      <td>Once in a day - Evening</td>\n",
       "      <td>7.63</td>\n",
       "      <td>Well below average</td>\n",
       "      <td>Medium</td>\n",
       "      <td>92.0</td>\n",
       "      <td>4.16</td>\n",
       "    </tr>\n",
       "    <tr>\n",
       "      <th>2</th>\n",
       "      <td>0x6c17</td>\n",
       "      <td>Container Home</td>\n",
       "      <td>305</td>\n",
       "      <td>1.0</td>\n",
       "      <td>2</td>\n",
       "      <td>Semi_Furnished</td>\n",
       "      <td>1.0</td>\n",
       "      <td>No</td>\n",
       "      <td>All time</td>\n",
       "      <td>5.39</td>\n",
       "      <td>Slightly above average</td>\n",
       "      <td>Medium</td>\n",
       "      <td>90.0</td>\n",
       "      <td>2.92</td>\n",
       "    </tr>\n",
       "    <tr>\n",
       "      <th>3</th>\n",
       "      <td>0x9dbd</td>\n",
       "      <td>Apartment</td>\n",
       "      <td>258</td>\n",
       "      <td>2.0</td>\n",
       "      <td>1</td>\n",
       "      <td>Semi_Furnished</td>\n",
       "      <td>1.0</td>\n",
       "      <td>No</td>\n",
       "      <td>All time</td>\n",
       "      <td>7.53</td>\n",
       "      <td>Slightly below average</td>\n",
       "      <td>Medium</td>\n",
       "      <td>158.0</td>\n",
       "      <td>3.45</td>\n",
       "    </tr>\n",
       "    <tr>\n",
       "      <th>4</th>\n",
       "      <td>0xbfde</td>\n",
       "      <td>Bungalow</td>\n",
       "      <td>3031</td>\n",
       "      <td>12.0</td>\n",
       "      <td>4</td>\n",
       "      <td>Fully Furnished</td>\n",
       "      <td>0.0</td>\n",
       "      <td>No</td>\n",
       "      <td>All time</td>\n",
       "      <td>8.79</td>\n",
       "      <td>Well above average</td>\n",
       "      <td>High</td>\n",
       "      <td>186.0</td>\n",
       "      <td>2.72</td>\n",
       "    </tr>\n",
       "  </tbody>\n",
       "</table>\n",
       "</div>"
      ],
      "text/plain": [
       "  Property_ID   Property_Type  Property_Area  Number_of_Windows  \\\n",
       "0      0x6e93       Apartment            293                3.0   \n",
       "1      0x8787       Apartment            586                4.0   \n",
       "2      0x6c17  Container Home            305                1.0   \n",
       "3      0x9dbd       Apartment            258                2.0   \n",
       "4      0xbfde        Bungalow           3031               12.0   \n",
       "\n",
       "   Number_of_Doors       Furnishing  Frequency_of_Powercuts Power_Backup  \\\n",
       "0                1      Unfurnished                     0.0           No   \n",
       "1                1   Semi_Furnished                     0.0           No   \n",
       "2                2   Semi_Furnished                     1.0           No   \n",
       "3                1   Semi_Furnished                     1.0           No   \n",
       "4                4  Fully Furnished                     0.0           No   \n",
       "\n",
       "              Water_Supply  Traffic_Density_Score              Crime_Rate  \\\n",
       "0  Once in a day - Morning                   7.28      Well above average   \n",
       "1  Once in a day - Evening                   7.63      Well below average   \n",
       "2                 All time                   5.39  Slightly above average   \n",
       "3                 All time                   7.53  Slightly below average   \n",
       "4                 All time                   8.79      Well above average   \n",
       "\n",
       "  Dust_and_Noise  Air_Quality_Index  Neighborhood_Review  \n",
       "0         Medium              152.0                 2.52  \n",
       "1         Medium               92.0                 4.16  \n",
       "2         Medium               90.0                 2.92  \n",
       "3         Medium              158.0                 3.45  \n",
       "4           High              186.0                 2.72  "
      ]
     },
     "execution_count": 3,
     "metadata": {},
     "output_type": "execute_result"
    }
   ],
   "source": [
    "test_df.head()"
   ]
  },
  {
   "cell_type": "code",
   "execution_count": 4,
   "id": "fdc1bc7c",
   "metadata": {},
   "outputs": [
    {
     "data": {
      "text/plain": [
       "(10500, 14)"
      ]
     },
     "execution_count": 4,
     "metadata": {},
     "output_type": "execute_result"
    }
   ],
   "source": [
    "test_df.shape"
   ]
  },
  {
   "cell_type": "code",
   "execution_count": 5,
   "id": "7319b971",
   "metadata": {},
   "outputs": [],
   "source": [
    "def nan_check(df):\n",
    "    return round((100*df.isnull().sum())/len(df),2)"
   ]
  },
  {
   "cell_type": "code",
   "execution_count": 6,
   "id": "3a9999cc",
   "metadata": {},
   "outputs": [
    {
     "data": {
      "text/plain": [
       "Property_ID               0.00\n",
       "Property_Type             0.00\n",
       "Property_Area             0.00\n",
       "Number_of_Windows         4.24\n",
       "Number_of_Doors           0.00\n",
       "Furnishing                2.45\n",
       "Frequency_of_Powercuts    3.49\n",
       "Power_Backup              0.00\n",
       "Water_Supply              0.00\n",
       "Traffic_Density_Score     0.00\n",
       "Crime_Rate                2.02\n",
       "Dust_and_Noise            3.14\n",
       "Air_Quality_Index         0.00\n",
       "Neighborhood_Review       0.00\n",
       "dtype: float64"
      ]
     },
     "execution_count": 6,
     "metadata": {},
     "output_type": "execute_result"
    }
   ],
   "source": [
    "nan_check(test_df)"
   ]
  },
  {
   "cell_type": "code",
   "execution_count": 7,
   "id": "398274c4",
   "metadata": {},
   "outputs": [],
   "source": [
    "df2 = test_df.copy()"
   ]
  },
  {
   "cell_type": "markdown",
   "id": "ebc3bf05",
   "metadata": {},
   "source": [
    "## Preprocessing Test data"
   ]
  },
  {
   "cell_type": "code",
   "execution_count": 8,
   "id": "3e706ec4",
   "metadata": {},
   "outputs": [
    {
     "data": {
      "text/plain": [
       "No               7974\n",
       "Yes              2305\n",
       "NOT MENTIONED     221\n",
       "Name: Power_Backup, dtype: int64"
      ]
     },
     "execution_count": 8,
     "metadata": {},
     "output_type": "execute_result"
    }
   ],
   "source": [
    "df2.Power_Backup.value_counts()"
   ]
  },
  {
   "cell_type": "code",
   "execution_count": 9,
   "id": "82b17a55",
   "metadata": {},
   "outputs": [],
   "source": [
    " df2.Power_Backup =df2.Power_Backup.apply(lambda x : None if x==\"NOT MENTIONED\" else x)"
   ]
  },
  {
   "cell_type": "code",
   "execution_count": 10,
   "id": "c6e626b0",
   "metadata": {},
   "outputs": [
    {
     "data": {
      "text/plain": [
       "Property_ID               0.00\n",
       "Property_Type             0.00\n",
       "Property_Area             0.00\n",
       "Number_of_Windows         4.24\n",
       "Number_of_Doors           0.00\n",
       "Furnishing                2.45\n",
       "Frequency_of_Powercuts    3.49\n",
       "Power_Backup              2.10\n",
       "Water_Supply              0.00\n",
       "Traffic_Density_Score     0.00\n",
       "Crime_Rate                2.02\n",
       "Dust_and_Noise            3.14\n",
       "Air_Quality_Index         0.00\n",
       "Neighborhood_Review       0.00\n",
       "dtype: float64"
      ]
     },
     "execution_count": 10,
     "metadata": {},
     "output_type": "execute_result"
    }
   ],
   "source": [
    "nan_check(df2)"
   ]
  },
  {
   "cell_type": "code",
   "execution_count": 11,
   "id": "15fc9c24",
   "metadata": {},
   "outputs": [],
   "source": [
    "df2.Furnishing = df2.Furnishing.map({\"Unfurnished\":0,\"Semi_Furnished\":1,\"Fully Furnished\":2})\n",
    "df2.Crime_Rate = df2.Crime_Rate.map({\"Well below average\":0,\"Slightly below average\":1,\"Slightly above average\":2,\"Well above average\":3})\n",
    "df2.Dust_and_Noise = df2.Dust_and_Noise.map({\"Low\":0,\"Medium\":1,\"High\":2})\n",
    "df2.Power_Backup= df2.Power_Backup.map({\"Yes\":1,\"No\":0})"
   ]
  },
  {
   "cell_type": "code",
   "execution_count": 12,
   "id": "5c310668",
   "metadata": {},
   "outputs": [],
   "source": [
    "from sklearn.experimental import enable_iterative_imputer\n",
    "from sklearn.impute import IterativeImputer"
   ]
  },
  {
   "cell_type": "code",
   "execution_count": 13,
   "id": "b6532603",
   "metadata": {},
   "outputs": [],
   "source": [
    "imputer=IterativeImputer()"
   ]
  },
  {
   "cell_type": "code",
   "execution_count": 14,
   "id": "3a39d28f",
   "metadata": {},
   "outputs": [],
   "source": [
    "df2['Furnishing']=imputer.fit_transform(df2[['Furnishing']])\n",
    "df2['Crime_Rate']=imputer.fit_transform(df2[['Crime_Rate']])\n",
    "df2['Dust_and_Noise']=imputer.fit_transform(df2[['Dust_and_Noise']])\n",
    "df2['Number_of_Windows']=imputer.fit_transform(df2[['Number_of_Windows']])\n",
    "df2['Frequency_of_Powercuts']=imputer.fit_transform(df2[['Frequency_of_Powercuts']])\n",
    "df2['Power_Backup']=imputer.fit_transform(df2[['Power_Backup']])"
   ]
  },
  {
   "cell_type": "code",
   "execution_count": 15,
   "id": "fd5414b7",
   "metadata": {},
   "outputs": [
    {
     "data": {
      "text/plain": [
       "Property_ID               0.0\n",
       "Property_Type             0.0\n",
       "Property_Area             0.0\n",
       "Number_of_Windows         0.0\n",
       "Number_of_Doors           0.0\n",
       "Furnishing                0.0\n",
       "Frequency_of_Powercuts    0.0\n",
       "Power_Backup              0.0\n",
       "Water_Supply              0.0\n",
       "Traffic_Density_Score     0.0\n",
       "Crime_Rate                0.0\n",
       "Dust_and_Noise            0.0\n",
       "Air_Quality_Index         0.0\n",
       "Neighborhood_Review       0.0\n",
       "dtype: float64"
      ]
     },
     "execution_count": 15,
     "metadata": {},
     "output_type": "execute_result"
    }
   ],
   "source": [
    "nan_check(df2)"
   ]
  },
  {
   "cell_type": "code",
   "execution_count": 16,
   "id": "49a9e85c",
   "metadata": {},
   "outputs": [],
   "source": [
    "model_df = pd.read_csv(\"../dataframes/model_data.csv\")"
   ]
  },
  {
   "cell_type": "code",
   "execution_count": 17,
   "id": "470ea5fd",
   "metadata": {},
   "outputs": [],
   "source": [
    "model_df.drop(\"Habitability_score\",axis=1,inplace=True)"
   ]
  },
  {
   "cell_type": "code",
   "execution_count": 18,
   "id": "9cd059de",
   "metadata": {},
   "outputs": [],
   "source": [
    "selected_features = model_df.columns"
   ]
  },
  {
   "cell_type": "code",
   "execution_count": 19,
   "id": "641a8632",
   "metadata": {},
   "outputs": [],
   "source": [
    "df3 = df2[selected_features]\n",
    "property_id = df2[\"Property_ID\"]"
   ]
  },
  {
   "cell_type": "code",
   "execution_count": 20,
   "id": "5de1b9fa",
   "metadata": {},
   "outputs": [
    {
     "data": {
      "text/html": [
       "<div>\n",
       "<style scoped>\n",
       "    .dataframe tbody tr th:only-of-type {\n",
       "        vertical-align: middle;\n",
       "    }\n",
       "\n",
       "    .dataframe tbody tr th {\n",
       "        vertical-align: top;\n",
       "    }\n",
       "\n",
       "    .dataframe thead th {\n",
       "        text-align: right;\n",
       "    }\n",
       "</style>\n",
       "<table border=\"1\" class=\"dataframe\">\n",
       "  <thead>\n",
       "    <tr style=\"text-align: right;\">\n",
       "      <th></th>\n",
       "      <th>Neighborhood_Review</th>\n",
       "      <th>Furnishing</th>\n",
       "      <th>Crime_Rate</th>\n",
       "      <th>Power_Backup</th>\n",
       "      <th>Frequency_of_Powercuts</th>\n",
       "      <th>Property_Area</th>\n",
       "    </tr>\n",
       "  </thead>\n",
       "  <tbody>\n",
       "    <tr>\n",
       "      <th>0</th>\n",
       "      <td>2.52</td>\n",
       "      <td>0.0</td>\n",
       "      <td>3.0</td>\n",
       "      <td>0.0</td>\n",
       "      <td>0.0</td>\n",
       "      <td>293</td>\n",
       "    </tr>\n",
       "    <tr>\n",
       "      <th>1</th>\n",
       "      <td>4.16</td>\n",
       "      <td>1.0</td>\n",
       "      <td>0.0</td>\n",
       "      <td>0.0</td>\n",
       "      <td>0.0</td>\n",
       "      <td>586</td>\n",
       "    </tr>\n",
       "    <tr>\n",
       "      <th>2</th>\n",
       "      <td>2.92</td>\n",
       "      <td>1.0</td>\n",
       "      <td>2.0</td>\n",
       "      <td>0.0</td>\n",
       "      <td>1.0</td>\n",
       "      <td>305</td>\n",
       "    </tr>\n",
       "    <tr>\n",
       "      <th>3</th>\n",
       "      <td>3.45</td>\n",
       "      <td>1.0</td>\n",
       "      <td>1.0</td>\n",
       "      <td>0.0</td>\n",
       "      <td>1.0</td>\n",
       "      <td>258</td>\n",
       "    </tr>\n",
       "    <tr>\n",
       "      <th>4</th>\n",
       "      <td>2.72</td>\n",
       "      <td>2.0</td>\n",
       "      <td>3.0</td>\n",
       "      <td>0.0</td>\n",
       "      <td>0.0</td>\n",
       "      <td>3031</td>\n",
       "    </tr>\n",
       "  </tbody>\n",
       "</table>\n",
       "</div>"
      ],
      "text/plain": [
       "   Neighborhood_Review  Furnishing  Crime_Rate  Power_Backup  \\\n",
       "0                 2.52         0.0         3.0           0.0   \n",
       "1                 4.16         1.0         0.0           0.0   \n",
       "2                 2.92         1.0         2.0           0.0   \n",
       "3                 3.45         1.0         1.0           0.0   \n",
       "4                 2.72         2.0         3.0           0.0   \n",
       "\n",
       "   Frequency_of_Powercuts  Property_Area  \n",
       "0                     0.0            293  \n",
       "1                     0.0            586  \n",
       "2                     1.0            305  \n",
       "3                     1.0            258  \n",
       "4                     0.0           3031  "
      ]
     },
     "execution_count": 20,
     "metadata": {},
     "output_type": "execute_result"
    }
   ],
   "source": [
    "df3.head()"
   ]
  },
  {
   "cell_type": "code",
   "execution_count": 21,
   "id": "ca57c81e",
   "metadata": {},
   "outputs": [],
   "source": [
    "df3[\"Frequency_of_Powercuts\"] = df3[\"Frequency_of_Powercuts\"].astype(\"int\")\n",
    "df3[\"Power_Backup\"] = df3[\"Power_Backup\"].astype(\"int\")\n",
    "df3[\"Crime_Rate\"] = df3[\"Crime_Rate\"].astype(\"int\")\n",
    "df3[\"Furnishing\"] = df3[\"Furnishing\"].astype(\"int\")"
   ]
  },
  {
   "cell_type": "code",
   "execution_count": 22,
   "id": "707751bd",
   "metadata": {},
   "outputs": [
    {
     "data": {
      "text/html": [
       "<div>\n",
       "<style scoped>\n",
       "    .dataframe tbody tr th:only-of-type {\n",
       "        vertical-align: middle;\n",
       "    }\n",
       "\n",
       "    .dataframe tbody tr th {\n",
       "        vertical-align: top;\n",
       "    }\n",
       "\n",
       "    .dataframe thead th {\n",
       "        text-align: right;\n",
       "    }\n",
       "</style>\n",
       "<table border=\"1\" class=\"dataframe\">\n",
       "  <thead>\n",
       "    <tr style=\"text-align: right;\">\n",
       "      <th></th>\n",
       "      <th>Neighborhood_Review</th>\n",
       "      <th>Furnishing</th>\n",
       "      <th>Crime_Rate</th>\n",
       "      <th>Power_Backup</th>\n",
       "      <th>Frequency_of_Powercuts</th>\n",
       "      <th>Property_Area</th>\n",
       "    </tr>\n",
       "  </thead>\n",
       "  <tbody>\n",
       "    <tr>\n",
       "      <th>0</th>\n",
       "      <td>2.52</td>\n",
       "      <td>0</td>\n",
       "      <td>3</td>\n",
       "      <td>0</td>\n",
       "      <td>0</td>\n",
       "      <td>293</td>\n",
       "    </tr>\n",
       "    <tr>\n",
       "      <th>1</th>\n",
       "      <td>4.16</td>\n",
       "      <td>1</td>\n",
       "      <td>0</td>\n",
       "      <td>0</td>\n",
       "      <td>0</td>\n",
       "      <td>586</td>\n",
       "    </tr>\n",
       "    <tr>\n",
       "      <th>2</th>\n",
       "      <td>2.92</td>\n",
       "      <td>1</td>\n",
       "      <td>2</td>\n",
       "      <td>0</td>\n",
       "      <td>1</td>\n",
       "      <td>305</td>\n",
       "    </tr>\n",
       "    <tr>\n",
       "      <th>3</th>\n",
       "      <td>3.45</td>\n",
       "      <td>1</td>\n",
       "      <td>1</td>\n",
       "      <td>0</td>\n",
       "      <td>1</td>\n",
       "      <td>258</td>\n",
       "    </tr>\n",
       "    <tr>\n",
       "      <th>4</th>\n",
       "      <td>2.72</td>\n",
       "      <td>2</td>\n",
       "      <td>3</td>\n",
       "      <td>0</td>\n",
       "      <td>0</td>\n",
       "      <td>3031</td>\n",
       "    </tr>\n",
       "  </tbody>\n",
       "</table>\n",
       "</div>"
      ],
      "text/plain": [
       "   Neighborhood_Review  Furnishing  Crime_Rate  Power_Backup  \\\n",
       "0                 2.52           0           3             0   \n",
       "1                 4.16           1           0             0   \n",
       "2                 2.92           1           2             0   \n",
       "3                 3.45           1           1             0   \n",
       "4                 2.72           2           3             0   \n",
       "\n",
       "   Frequency_of_Powercuts  Property_Area  \n",
       "0                       0            293  \n",
       "1                       0            586  \n",
       "2                       1            305  \n",
       "3                       1            258  \n",
       "4                       0           3031  "
      ]
     },
     "execution_count": 22,
     "metadata": {},
     "output_type": "execute_result"
    }
   ],
   "source": [
    "df3.head()"
   ]
  },
  {
   "cell_type": "code",
   "execution_count": 23,
   "id": "7112ac9e",
   "metadata": {},
   "outputs": [],
   "source": [
    "X= np.array(df3)"
   ]
  },
  {
   "cell_type": "markdown",
   "id": "94fe2e73",
   "metadata": {},
   "source": [
    "### Now , our data is ready "
   ]
  },
  {
   "cell_type": "code",
   "execution_count": 24,
   "id": "cd2af844",
   "metadata": {},
   "outputs": [],
   "source": [
    "import pickle"
   ]
  },
  {
   "cell_type": "code",
   "execution_count": 25,
   "id": "cf141646",
   "metadata": {},
   "outputs": [],
   "source": [
    "# loading the model\n",
    "\n",
    "with open('../models/xgboost_model.pickle',\"rb\") as f1:\n",
    "    xg_model = pickle.load(f1)"
   ]
  },
  {
   "cell_type": "code",
   "execution_count": 26,
   "id": "b64bb4e8",
   "metadata": {},
   "outputs": [],
   "source": [
    "# predicting the data\n",
    "\n",
    "predictons = xg_model.predict(X)"
   ]
  },
  {
   "cell_type": "code",
   "execution_count": 27,
   "id": "176de65f",
   "metadata": {},
   "outputs": [],
   "source": [
    "pred = pd.DataFrame(predictons,columns=[\"Habitability_score\"])\n",
    "prop_id = pd.DataFrame(property_id,columns=[\"Property_ID\"])"
   ]
  },
  {
   "cell_type": "code",
   "execution_count": 29,
   "id": "e5cf4100",
   "metadata": {},
   "outputs": [],
   "source": [
    "final_df = pd.concat([prop_id,pred],axis=1)"
   ]
  },
  {
   "cell_type": "code",
   "execution_count": 30,
   "id": "05a69cec",
   "metadata": {},
   "outputs": [
    {
     "data": {
      "text/html": [
       "<div>\n",
       "<style scoped>\n",
       "    .dataframe tbody tr th:only-of-type {\n",
       "        vertical-align: middle;\n",
       "    }\n",
       "\n",
       "    .dataframe tbody tr th {\n",
       "        vertical-align: top;\n",
       "    }\n",
       "\n",
       "    .dataframe thead th {\n",
       "        text-align: right;\n",
       "    }\n",
       "</style>\n",
       "<table border=\"1\" class=\"dataframe\">\n",
       "  <thead>\n",
       "    <tr style=\"text-align: right;\">\n",
       "      <th></th>\n",
       "      <th>Property_ID</th>\n",
       "      <th>Habitability_score</th>\n",
       "    </tr>\n",
       "  </thead>\n",
       "  <tbody>\n",
       "    <tr>\n",
       "      <th>0</th>\n",
       "      <td>0x6e93</td>\n",
       "      <td>28.661592</td>\n",
       "    </tr>\n",
       "    <tr>\n",
       "      <th>1</th>\n",
       "      <td>0x8787</td>\n",
       "      <td>81.252563</td>\n",
       "    </tr>\n",
       "    <tr>\n",
       "      <th>2</th>\n",
       "      <td>0x6c17</td>\n",
       "      <td>67.057922</td>\n",
       "    </tr>\n",
       "    <tr>\n",
       "      <th>3</th>\n",
       "      <td>0x9dbd</td>\n",
       "      <td>71.661812</td>\n",
       "    </tr>\n",
       "    <tr>\n",
       "      <th>4</th>\n",
       "      <td>0xbfde</td>\n",
       "      <td>81.864555</td>\n",
       "    </tr>\n",
       "  </tbody>\n",
       "</table>\n",
       "</div>"
      ],
      "text/plain": [
       "  Property_ID  Habitability_score\n",
       "0      0x6e93           28.661592\n",
       "1      0x8787           81.252563\n",
       "2      0x6c17           67.057922\n",
       "3      0x9dbd           71.661812\n",
       "4      0xbfde           81.864555"
      ]
     },
     "execution_count": 30,
     "metadata": {},
     "output_type": "execute_result"
    }
   ],
   "source": [
    "final_df.head()"
   ]
  },
  {
   "cell_type": "markdown",
   "id": "b57a6a3a",
   "metadata": {},
   "source": [
    "## Saving"
   ]
  },
  {
   "cell_type": "code",
   "execution_count": 31,
   "id": "61e7b745",
   "metadata": {},
   "outputs": [],
   "source": [
    "final_df.to_csv(r'../dataframes/predictions.csv',index=False)"
   ]
  },
  {
   "cell_type": "code",
   "execution_count": null,
   "id": "54e119cb",
   "metadata": {},
   "outputs": [],
   "source": []
  },
  {
   "cell_type": "code",
   "execution_count": null,
   "id": "9b86f712",
   "metadata": {},
   "outputs": [],
   "source": []
  }
 ],
 "metadata": {
  "kernelspec": {
   "display_name": "Python 3 (ipykernel)",
   "language": "python",
   "name": "python3"
  },
  "language_info": {
   "codemirror_mode": {
    "name": "ipython",
    "version": 3
   },
   "file_extension": ".py",
   "mimetype": "text/x-python",
   "name": "python",
   "nbconvert_exporter": "python",
   "pygments_lexer": "ipython3",
   "version": "3.9.12"
  }
 },
 "nbformat": 4,
 "nbformat_minor": 5
}
