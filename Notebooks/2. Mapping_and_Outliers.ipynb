{
 "cells": [
  {
   "cell_type": "code",
   "execution_count": 1,
   "id": "8d5c1c9e",
   "metadata": {},
   "outputs": [],
   "source": [
    "# import necessary libraries\n",
    "\n",
    "import pandas as pd\n",
    "import numpy as np\n",
    "import seaborn as sb"
   ]
  },
  {
   "cell_type": "code",
   "execution_count": 3,
   "id": "ab82967b",
   "metadata": {},
   "outputs": [],
   "source": [
    "# reading cleaned dataset\n",
    "\n",
    "home_df= pd.read_csv(\"../dataframes/cleaned_df.csv\")"
   ]
  },
  {
   "cell_type": "code",
   "execution_count": 4,
   "id": "baa899c2",
   "metadata": {},
   "outputs": [
    {
     "data": {
      "text/html": [
       "<div>\n",
       "<style scoped>\n",
       "    .dataframe tbody tr th:only-of-type {\n",
       "        vertical-align: middle;\n",
       "    }\n",
       "\n",
       "    .dataframe tbody tr th {\n",
       "        vertical-align: top;\n",
       "    }\n",
       "\n",
       "    .dataframe thead th {\n",
       "        text-align: right;\n",
       "    }\n",
       "</style>\n",
       "<table border=\"1\" class=\"dataframe\">\n",
       "  <thead>\n",
       "    <tr style=\"text-align: right;\">\n",
       "      <th></th>\n",
       "      <th>Property_ID</th>\n",
       "      <th>Property_Type</th>\n",
       "      <th>Property_Area</th>\n",
       "      <th>Number_of_Windows</th>\n",
       "      <th>Number_of_Doors</th>\n",
       "      <th>Furnishing</th>\n",
       "      <th>Frequency_of_Powercuts</th>\n",
       "      <th>Power_Backup</th>\n",
       "      <th>Water_Supply</th>\n",
       "      <th>Traffic_Density_Score</th>\n",
       "      <th>Crime_Rate</th>\n",
       "      <th>Dust_and_Noise</th>\n",
       "      <th>Air_Quality_Index</th>\n",
       "      <th>Neighborhood_Review</th>\n",
       "      <th>Habitability_score</th>\n",
       "    </tr>\n",
       "  </thead>\n",
       "  <tbody>\n",
       "    <tr>\n",
       "      <th>0</th>\n",
       "      <td>0x68d4</td>\n",
       "      <td>Apartment</td>\n",
       "      <td>733</td>\n",
       "      <td>2.0</td>\n",
       "      <td>2</td>\n",
       "      <td>Unfurnished</td>\n",
       "      <td>1.0</td>\n",
       "      <td>No</td>\n",
       "      <td>Once in a day - Evening</td>\n",
       "      <td>4.37</td>\n",
       "      <td>Well below average</td>\n",
       "      <td>Medium</td>\n",
       "      <td>96.0</td>\n",
       "      <td>3.55</td>\n",
       "      <td>71.20</td>\n",
       "    </tr>\n",
       "    <tr>\n",
       "      <th>1</th>\n",
       "      <td>0x7d81</td>\n",
       "      <td>Apartment</td>\n",
       "      <td>737</td>\n",
       "      <td>4.0</td>\n",
       "      <td>2</td>\n",
       "      <td>Fully Furnished</td>\n",
       "      <td>0.0</td>\n",
       "      <td>No</td>\n",
       "      <td>Once in a day - Morning</td>\n",
       "      <td>7.45</td>\n",
       "      <td>Slightly below average</td>\n",
       "      <td>Medium</td>\n",
       "      <td>121.0</td>\n",
       "      <td>3.81</td>\n",
       "      <td>71.39</td>\n",
       "    </tr>\n",
       "    <tr>\n",
       "      <th>2</th>\n",
       "      <td>0x7a57</td>\n",
       "      <td>Apartment</td>\n",
       "      <td>900</td>\n",
       "      <td>3.0</td>\n",
       "      <td>2</td>\n",
       "      <td>Unfurnished</td>\n",
       "      <td>2.0</td>\n",
       "      <td>Yes</td>\n",
       "      <td>Once in a day - Morning</td>\n",
       "      <td>6.16</td>\n",
       "      <td>Well above average</td>\n",
       "      <td>Medium</td>\n",
       "      <td>100.0</td>\n",
       "      <td>1.34</td>\n",
       "      <td>31.46</td>\n",
       "    </tr>\n",
       "    <tr>\n",
       "      <th>3</th>\n",
       "      <td>0x9409</td>\n",
       "      <td>Bungalow</td>\n",
       "      <td>2238</td>\n",
       "      <td>14.0</td>\n",
       "      <td>6</td>\n",
       "      <td>Fully Furnished</td>\n",
       "      <td>0.0</td>\n",
       "      <td>No</td>\n",
       "      <td>All time</td>\n",
       "      <td>5.46</td>\n",
       "      <td>Well below average</td>\n",
       "      <td>Medium</td>\n",
       "      <td>116.0</td>\n",
       "      <td>4.77</td>\n",
       "      <td>93.70</td>\n",
       "    </tr>\n",
       "    <tr>\n",
       "      <th>4</th>\n",
       "      <td>0xbe4e</td>\n",
       "      <td>Single-family home</td>\n",
       "      <td>1185</td>\n",
       "      <td>3.0</td>\n",
       "      <td>3</td>\n",
       "      <td>Unfurnished</td>\n",
       "      <td>0.0</td>\n",
       "      <td>No</td>\n",
       "      <td>Once in a day - Morning</td>\n",
       "      <td>5.69</td>\n",
       "      <td>Well below average</td>\n",
       "      <td>Medium</td>\n",
       "      <td>91.0</td>\n",
       "      <td>4.49</td>\n",
       "      <td>82.94</td>\n",
       "    </tr>\n",
       "  </tbody>\n",
       "</table>\n",
       "</div>"
      ],
      "text/plain": [
       "  Property_ID       Property_Type  Property_Area  Number_of_Windows  \\\n",
       "0      0x68d4           Apartment            733                2.0   \n",
       "1      0x7d81           Apartment            737                4.0   \n",
       "2      0x7a57           Apartment            900                3.0   \n",
       "3      0x9409            Bungalow           2238               14.0   \n",
       "4      0xbe4e  Single-family home           1185                3.0   \n",
       "\n",
       "   Number_of_Doors       Furnishing  Frequency_of_Powercuts Power_Backup  \\\n",
       "0                2      Unfurnished                     1.0           No   \n",
       "1                2  Fully Furnished                     0.0           No   \n",
       "2                2      Unfurnished                     2.0          Yes   \n",
       "3                6  Fully Furnished                     0.0           No   \n",
       "4                3      Unfurnished                     0.0           No   \n",
       "\n",
       "              Water_Supply  Traffic_Density_Score              Crime_Rate  \\\n",
       "0  Once in a day - Evening                   4.37      Well below average   \n",
       "1  Once in a day - Morning                   7.45  Slightly below average   \n",
       "2  Once in a day - Morning                   6.16      Well above average   \n",
       "3                 All time                   5.46      Well below average   \n",
       "4  Once in a day - Morning                   5.69      Well below average   \n",
       "\n",
       "  Dust_and_Noise  Air_Quality_Index  Neighborhood_Review  Habitability_score  \n",
       "0         Medium               96.0                 3.55               71.20  \n",
       "1         Medium              121.0                 3.81               71.39  \n",
       "2         Medium              100.0                 1.34               31.46  \n",
       "3         Medium              116.0                 4.77               93.70  \n",
       "4         Medium               91.0                 4.49               82.94  "
      ]
     },
     "execution_count": 4,
     "metadata": {},
     "output_type": "execute_result"
    }
   ],
   "source": [
    "# Top 5 rows\n",
    "\n",
    "home_df.head()"
   ]
  },
  {
   "cell_type": "code",
   "execution_count": 51,
   "id": "56d55263",
   "metadata": {},
   "outputs": [],
   "source": [
    "def nan_check(df):\n",
    "    return round((100*df.isnull().sum())/len(df),2)"
   ]
  },
  {
   "cell_type": "code",
   "execution_count": 52,
   "id": "a4d4c9e7",
   "metadata": {},
   "outputs": [
    {
     "data": {
      "text/plain": [
       "Property_ID               0.0\n",
       "Property_Type             0.0\n",
       "Property_Area             0.0\n",
       "Number_of_Windows         0.0\n",
       "Number_of_Doors           0.0\n",
       "Furnishing                0.0\n",
       "Frequency_of_Powercuts    0.0\n",
       "Power_Backup              0.0\n",
       "Water_Supply              0.0\n",
       "Traffic_Density_Score     0.0\n",
       "Crime_Rate                0.0\n",
       "Dust_and_Noise            0.0\n",
       "Air_Quality_Index         0.0\n",
       "Neighborhood_Review       0.0\n",
       "Habitability_score        0.0\n",
       "dtype: float64"
      ]
     },
     "execution_count": 52,
     "metadata": {},
     "output_type": "execute_result"
    }
   ],
   "source": [
    "nan_check(home_df)"
   ]
  },
  {
   "cell_type": "markdown",
   "id": "c11c7fa8",
   "metadata": {},
   "source": [
    "## Mapping(Label Encoding)"
   ]
  },
  {
   "cell_type": "code",
   "execution_count": 53,
   "id": "30396672",
   "metadata": {},
   "outputs": [],
   "source": [
    "df1 = home_df.copy()"
   ]
  },
  {
   "cell_type": "code",
   "execution_count": 54,
   "id": "53d9b829",
   "metadata": {},
   "outputs": [
    {
     "data": {
      "text/plain": [
       "Semi_Furnished     17204\n",
       "Unfurnished         8662\n",
       "Fully Furnished     6494\n",
       "Name: Furnishing, dtype: int64"
      ]
     },
     "execution_count": 54,
     "metadata": {},
     "output_type": "execute_result"
    }
   ],
   "source": [
    "home_df.Furnishing.value_counts()"
   ]
  },
  {
   "cell_type": "code",
   "execution_count": 55,
   "id": "c88549f0",
   "metadata": {},
   "outputs": [],
   "source": [
    "df1.Furnishing = home_df.Furnishing.map({\"Unfurnished\":0,\"Semi_Furnished\":1,\"Fully Furnished\":2})"
   ]
  },
  {
   "cell_type": "code",
   "execution_count": 56,
   "id": "a5e78508",
   "metadata": {},
   "outputs": [
    {
     "data": {
      "text/plain": [
       "No     24838\n",
       "Yes     7522\n",
       "Name: Power_Backup, dtype: int64"
      ]
     },
     "execution_count": 56,
     "metadata": {},
     "output_type": "execute_result"
    }
   ],
   "source": [
    "home_df.Power_Backup.value_counts()"
   ]
  },
  {
   "cell_type": "code",
   "execution_count": 57,
   "id": "dac12760",
   "metadata": {},
   "outputs": [],
   "source": [
    "df1.Power_Backup = df1.Power_Backup.map({\"No\":0,\"Yes\":1})"
   ]
  },
  {
   "cell_type": "code",
   "execution_count": 58,
   "id": "34254e0e",
   "metadata": {},
   "outputs": [
    {
     "data": {
      "text/plain": [
       "Well below average        16240\n",
       "Slightly below average     9729\n",
       "Slightly above average     4422\n",
       "Well above average         1969\n",
       "Name: Crime_Rate, dtype: int64"
      ]
     },
     "execution_count": 58,
     "metadata": {},
     "output_type": "execute_result"
    }
   ],
   "source": [
    "home_df.Crime_Rate.value_counts()"
   ]
  },
  {
   "cell_type": "code",
   "execution_count": 59,
   "id": "66a4169b",
   "metadata": {},
   "outputs": [],
   "source": [
    "df1.Crime_Rate = home_df.Crime_Rate.map({\"Well below average\":0,\"Slightly below average\":1,\"Slightly above average\":2,\"Well above average\":3})"
   ]
  },
  {
   "cell_type": "code",
   "execution_count": 60,
   "id": "7827e4d6",
   "metadata": {},
   "outputs": [
    {
     "data": {
      "text/plain": [
       "Medium    27877\n",
       "High       2737\n",
       "Low        1746\n",
       "Name: Dust_and_Noise, dtype: int64"
      ]
     },
     "execution_count": 60,
     "metadata": {},
     "output_type": "execute_result"
    }
   ],
   "source": [
    "home_df.Dust_and_Noise.value_counts()"
   ]
  },
  {
   "cell_type": "code",
   "execution_count": 61,
   "id": "7f9fe5b7",
   "metadata": {},
   "outputs": [],
   "source": [
    "df1.Dust_and_Noise = home_df.Dust_and_Noise.map({\"Low\":0,\"Medium\":1,\"High\":2})"
   ]
  },
  {
   "cell_type": "code",
   "execution_count": 62,
   "id": "d0fb199e",
   "metadata": {},
   "outputs": [
    {
     "data": {
      "text/html": [
       "<div>\n",
       "<style scoped>\n",
       "    .dataframe tbody tr th:only-of-type {\n",
       "        vertical-align: middle;\n",
       "    }\n",
       "\n",
       "    .dataframe tbody tr th {\n",
       "        vertical-align: top;\n",
       "    }\n",
       "\n",
       "    .dataframe thead th {\n",
       "        text-align: right;\n",
       "    }\n",
       "</style>\n",
       "<table border=\"1\" class=\"dataframe\">\n",
       "  <thead>\n",
       "    <tr style=\"text-align: right;\">\n",
       "      <th></th>\n",
       "      <th>Property_ID</th>\n",
       "      <th>Property_Type</th>\n",
       "      <th>Property_Area</th>\n",
       "      <th>Number_of_Windows</th>\n",
       "      <th>Number_of_Doors</th>\n",
       "      <th>Furnishing</th>\n",
       "      <th>Frequency_of_Powercuts</th>\n",
       "      <th>Power_Backup</th>\n",
       "      <th>Water_Supply</th>\n",
       "      <th>Traffic_Density_Score</th>\n",
       "      <th>Crime_Rate</th>\n",
       "      <th>Dust_and_Noise</th>\n",
       "      <th>Air_Quality_Index</th>\n",
       "      <th>Neighborhood_Review</th>\n",
       "      <th>Habitability_score</th>\n",
       "    </tr>\n",
       "  </thead>\n",
       "  <tbody>\n",
       "    <tr>\n",
       "      <th>0</th>\n",
       "      <td>0x68d4</td>\n",
       "      <td>Apartment</td>\n",
       "      <td>733</td>\n",
       "      <td>2.0</td>\n",
       "      <td>2</td>\n",
       "      <td>0</td>\n",
       "      <td>1.0</td>\n",
       "      <td>0</td>\n",
       "      <td>Once in a day - Evening</td>\n",
       "      <td>4.37</td>\n",
       "      <td>0</td>\n",
       "      <td>1</td>\n",
       "      <td>96.0</td>\n",
       "      <td>3.55</td>\n",
       "      <td>71.20</td>\n",
       "    </tr>\n",
       "    <tr>\n",
       "      <th>1</th>\n",
       "      <td>0x7d81</td>\n",
       "      <td>Apartment</td>\n",
       "      <td>737</td>\n",
       "      <td>4.0</td>\n",
       "      <td>2</td>\n",
       "      <td>2</td>\n",
       "      <td>0.0</td>\n",
       "      <td>0</td>\n",
       "      <td>Once in a day - Morning</td>\n",
       "      <td>7.45</td>\n",
       "      <td>1</td>\n",
       "      <td>1</td>\n",
       "      <td>121.0</td>\n",
       "      <td>3.81</td>\n",
       "      <td>71.39</td>\n",
       "    </tr>\n",
       "    <tr>\n",
       "      <th>2</th>\n",
       "      <td>0x7a57</td>\n",
       "      <td>Apartment</td>\n",
       "      <td>900</td>\n",
       "      <td>3.0</td>\n",
       "      <td>2</td>\n",
       "      <td>0</td>\n",
       "      <td>2.0</td>\n",
       "      <td>1</td>\n",
       "      <td>Once in a day - Morning</td>\n",
       "      <td>6.16</td>\n",
       "      <td>3</td>\n",
       "      <td>1</td>\n",
       "      <td>100.0</td>\n",
       "      <td>1.34</td>\n",
       "      <td>31.46</td>\n",
       "    </tr>\n",
       "    <tr>\n",
       "      <th>3</th>\n",
       "      <td>0x9409</td>\n",
       "      <td>Bungalow</td>\n",
       "      <td>2238</td>\n",
       "      <td>14.0</td>\n",
       "      <td>6</td>\n",
       "      <td>2</td>\n",
       "      <td>0.0</td>\n",
       "      <td>0</td>\n",
       "      <td>All time</td>\n",
       "      <td>5.46</td>\n",
       "      <td>0</td>\n",
       "      <td>1</td>\n",
       "      <td>116.0</td>\n",
       "      <td>4.77</td>\n",
       "      <td>93.70</td>\n",
       "    </tr>\n",
       "    <tr>\n",
       "      <th>4</th>\n",
       "      <td>0xbe4e</td>\n",
       "      <td>Single-family home</td>\n",
       "      <td>1185</td>\n",
       "      <td>3.0</td>\n",
       "      <td>3</td>\n",
       "      <td>0</td>\n",
       "      <td>0.0</td>\n",
       "      <td>0</td>\n",
       "      <td>Once in a day - Morning</td>\n",
       "      <td>5.69</td>\n",
       "      <td>0</td>\n",
       "      <td>1</td>\n",
       "      <td>91.0</td>\n",
       "      <td>4.49</td>\n",
       "      <td>82.94</td>\n",
       "    </tr>\n",
       "  </tbody>\n",
       "</table>\n",
       "</div>"
      ],
      "text/plain": [
       "  Property_ID       Property_Type  Property_Area  Number_of_Windows  \\\n",
       "0      0x68d4           Apartment            733                2.0   \n",
       "1      0x7d81           Apartment            737                4.0   \n",
       "2      0x7a57           Apartment            900                3.0   \n",
       "3      0x9409            Bungalow           2238               14.0   \n",
       "4      0xbe4e  Single-family home           1185                3.0   \n",
       "\n",
       "   Number_of_Doors  Furnishing  Frequency_of_Powercuts  Power_Backup  \\\n",
       "0                2           0                     1.0             0   \n",
       "1                2           2                     0.0             0   \n",
       "2                2           0                     2.0             1   \n",
       "3                6           2                     0.0             0   \n",
       "4                3           0                     0.0             0   \n",
       "\n",
       "              Water_Supply  Traffic_Density_Score  Crime_Rate  Dust_and_Noise  \\\n",
       "0  Once in a day - Evening                   4.37           0               1   \n",
       "1  Once in a day - Morning                   7.45           1               1   \n",
       "2  Once in a day - Morning                   6.16           3               1   \n",
       "3                 All time                   5.46           0               1   \n",
       "4  Once in a day - Morning                   5.69           0               1   \n",
       "\n",
       "   Air_Quality_Index  Neighborhood_Review  Habitability_score  \n",
       "0               96.0                 3.55               71.20  \n",
       "1              121.0                 3.81               71.39  \n",
       "2              100.0                 1.34               31.46  \n",
       "3              116.0                 4.77               93.70  \n",
       "4               91.0                 4.49               82.94  "
      ]
     },
     "execution_count": 62,
     "metadata": {},
     "output_type": "execute_result"
    }
   ],
   "source": [
    "df1.head()"
   ]
  },
  {
   "cell_type": "markdown",
   "id": "fa970de0",
   "metadata": {},
   "source": [
    "## Outliers\n",
    "\n"
   ]
  },
  {
   "cell_type": "code",
   "execution_count": 111,
   "id": "18d33607",
   "metadata": {},
   "outputs": [],
   "source": [
    "# Function which remove outliers using normal distribution\n",
    "\n",
    "def cap_outliers(df,feature):\n",
    "    c = 0\n",
    "    df_out=pd.DataFrame()\n",
    "    for key,subset in df.groupby('Property_Type'):\n",
    "        \n",
    "        mu=np.mean(subset[feature])\n",
    "        sigma=np.std(subset[feature])\n",
    "        \n",
    "        retained_df=subset[(subset[feature]>(mu-1*sigma)) & (subset[feature]<(mu+1*sigma))]\n",
    "        \n",
    "        df_out=pd.concat([df_out,retained_df],ignore_index=True)\n",
    "    return df_out\n",
    "\n"
   ]
  },
  {
   "cell_type": "code",
   "execution_count": 112,
   "id": "ee6a9668",
   "metadata": {},
   "outputs": [
    {
     "data": {
      "text/plain": [
       "count    32360.000000\n",
       "mean      1393.565637\n",
       "std       1947.693451\n",
       "min        100.000000\n",
       "10%        286.000000\n",
       "50%        932.000000\n",
       "80%       1962.000000\n",
       "90%       2380.100000\n",
       "95%       3534.000000\n",
       "99%      10909.230000\n",
       "max      28057.000000\n",
       "Name: Property_Area, dtype: float64"
      ]
     },
     "execution_count": 112,
     "metadata": {},
     "output_type": "execute_result"
    }
   ],
   "source": [
    "df1['Property_Area'].describe([.10,.80,.90,.95,.99])"
   ]
  },
  {
   "cell_type": "code",
   "execution_count": 113,
   "id": "462dbc16",
   "metadata": {
    "scrolled": false
   },
   "outputs": [
    {
     "name": "stderr",
     "output_type": "stream",
     "text": [
      "C:\\Users\\Nirbhay Arora\\anaconda3\\lib\\site-packages\\seaborn\\distributions.py:2619: FutureWarning: `distplot` is a deprecated function and will be removed in a future version. Please adapt your code to use either `displot` (a figure-level function with similar flexibility) or `histplot` (an axes-level function for histograms).\n",
      "  warnings.warn(msg, FutureWarning)\n"
     ]
    },
    {
     "data": {
      "text/plain": [
       "<AxesSubplot:xlabel='Property_Area', ylabel='Density'>"
      ]
     },
     "execution_count": 113,
     "metadata": {},
     "output_type": "execute_result"
    },
    {
     "data": {
      "image/png": "[encoded data removed]",
      "text/plain": [
       "<Figure size 432x288 with 1 Axes>"
      ]
     },
     "metadata": {
      "needs_background": "light"
     },
     "output_type": "display_data"
    }
   ],
   "source": [
    "sb.distplot(df1['Property_Area'],color='red')\n"
   ]
  },
  {
   "cell_type": "code",
   "execution_count": 114,
   "id": "e1733afc",
   "metadata": {},
   "outputs": [],
   "source": [
    "# Calling function on \"Property_Area\"\n",
    "\n",
    "df2=cap_outliers(df1,\"Property_Area\")"
   ]
  },
  {
   "cell_type": "code",
   "execution_count": 117,
   "id": "9abf297a",
   "metadata": {},
   "outputs": [
    {
     "name": "stdout",
     "output_type": "stream",
     "text": [
      "32360\n",
      "31839\n"
     ]
    }
   ],
   "source": [
    "print(len(df1))\n",
    "print(len(df2))"
   ]
  },
  {
   "cell_type": "code",
   "execution_count": 119,
   "id": "c6f5080a",
   "metadata": {},
   "outputs": [
    {
     "name": "stderr",
     "output_type": "stream",
     "text": [
      "C:\\Users\\Nirbhay Arora\\anaconda3\\lib\\site-packages\\seaborn\\distributions.py:2619: FutureWarning: `distplot` is a deprecated function and will be removed in a future version. Please adapt your code to use either `displot` (a figure-level function with similar flexibility) or `histplot` (an axes-level function for histograms).\n",
      "  warnings.warn(msg, FutureWarning)\n"
     ]
    },
    {
     "data": {
      "text/plain": [
       "<AxesSubplot:xlabel='Property_Area', ylabel='Density'>"
      ]
     },
     "execution_count": 119,
     "metadata": {},
     "output_type": "execute_result"
    },
    {
     "data": {
      "image/png": "[encoded data removed]",
      "text/plain": [
       "<Figure size 432x288 with 1 Axes>"
      ]
     },
     "metadata": {
      "needs_background": "light"
     },
     "output_type": "display_data"
    }
   ],
   "source": [
    "sb.distplot(df2['Property_Area'],color='red')"
   ]
  },
  {
   "cell_type": "code",
   "execution_count": 120,
   "id": "8290209f",
   "metadata": {},
   "outputs": [
    {
     "data": {
      "text/plain": [
       "count    31839.000000\n",
       "mean       121.298470\n",
       "std         61.602141\n",
       "min          0.000000\n",
       "10%         84.000000\n",
       "50%        113.000000\n",
       "80%        147.000000\n",
       "90%        161.000000\n",
       "95%        168.100000\n",
       "99%        199.000000\n",
       "max       1044.000000\n",
       "Name: Air_Quality_Index, dtype: float64"
      ]
     },
     "execution_count": 120,
     "metadata": {},
     "output_type": "execute_result"
    }
   ],
   "source": [
    "df2['Air_Quality_Index'].describe([.10,.80,.90,.95,.99])"
   ]
  },
  {
   "cell_type": "code",
   "execution_count": 121,
   "id": "be8de567",
   "metadata": {},
   "outputs": [
    {
     "name": "stderr",
     "output_type": "stream",
     "text": [
      "C:\\Users\\Nirbhay Arora\\anaconda3\\lib\\site-packages\\seaborn\\distributions.py:2619: FutureWarning: `distplot` is a deprecated function and will be removed in a future version. Please adapt your code to use either `displot` (a figure-level function with similar flexibility) or `histplot` (an axes-level function for histograms).\n",
      "  warnings.warn(msg, FutureWarning)\n"
     ]
    },
    {
     "data": {
      "text/plain": [
       "<AxesSubplot:xlabel='Air_Quality_Index', ylabel='Density'>"
      ]
     },
     "execution_count": 121,
     "metadata": {},
     "output_type": "execute_result"
    },
    {
     "data": {
      "image/png": "[encoded data removed]",
      "text/plain": [
       "<Figure size 432x288 with 1 Axes>"
      ]
     },
     "metadata": {
      "needs_background": "light"
     },
     "output_type": "display_data"
    }
   ],
   "source": [
    "sb.distplot(df2['Air_Quality_Index'],color='blue')\n"
   ]
  },
  {
   "cell_type": "code",
   "execution_count": 122,
   "id": "70db19c3",
   "metadata": {},
   "outputs": [],
   "source": [
    "# Calling Function on 'Air_Quality_Index'\n",
    "\n",
    "df3=cap_outliers(df2,'Air_Quality_Index')"
   ]
  },
  {
   "cell_type": "code",
   "execution_count": 123,
   "id": "38548bf0",
   "metadata": {},
   "outputs": [
    {
     "name": "stdout",
     "output_type": "stream",
     "text": [
      "31839\n",
      "30283\n"
     ]
    }
   ],
   "source": [
    "print(len(df2))\n",
    "print(len(df3))"
   ]
  },
  {
   "cell_type": "code",
   "execution_count": 124,
   "id": "f933836f",
   "metadata": {},
   "outputs": [
    {
     "name": "stderr",
     "output_type": "stream",
     "text": [
      "C:\\Users\\Nirbhay Arora\\anaconda3\\lib\\site-packages\\seaborn\\distributions.py:2619: FutureWarning: `distplot` is a deprecated function and will be removed in a future version. Please adapt your code to use either `displot` (a figure-level function with similar flexibility) or `histplot` (an axes-level function for histograms).\n",
      "  warnings.warn(msg, FutureWarning)\n"
     ]
    },
    {
     "data": {
      "text/plain": [
       "<AxesSubplot:xlabel='Air_Quality_Index', ylabel='Density'>"
      ]
     },
     "execution_count": 124,
     "metadata": {},
     "output_type": "execute_result"
    },
    {
     "data": {
      "image/png": "[encoded data removed]",
      "text/plain": [
       "<Figure size 432x288 with 1 Axes>"
      ]
     },
     "metadata": {
      "needs_background": "light"
     },
     "output_type": "display_data"
    }
   ],
   "source": [
    "sb.distplot(df3['Air_Quality_Index'],color='blue')"
   ]
  },
  {
   "cell_type": "markdown",
   "id": "d4b72740",
   "metadata": {},
   "source": [
    "## One Hot Encode"
   ]
  },
  {
   "cell_type": "code",
   "execution_count": 125,
   "id": "6c5bbfb2",
   "metadata": {},
   "outputs": [],
   "source": [
    "prop_dummy=pd.get_dummies(df3['Property_Type'])\n",
    "\n",
    "prop_dummy = prop_dummy.drop('Apartment',axis=1)"
   ]
  },
  {
   "cell_type": "code",
   "execution_count": 126,
   "id": "c60687be",
   "metadata": {},
   "outputs": [],
   "source": [
    "df4=pd.concat([df3,prop_dummy],axis=1)\n",
    "df4.drop('Property_Type',axis=1,inplace=True)"
   ]
  },
  {
   "cell_type": "code",
   "execution_count": 127,
   "id": "ce7b347f",
   "metadata": {},
   "outputs": [],
   "source": [
    "water_dummy=pd.get_dummies(df4['Water_Supply'])\n",
    "\n",
    "water_dummy = water_dummy.drop('All time',axis=1)"
   ]
  },
  {
   "cell_type": "code",
   "execution_count": 128,
   "id": "afd6db62",
   "metadata": {},
   "outputs": [],
   "source": [
    "df5=pd.concat([df4,water_dummy],axis=1)\n",
    "df5.drop('Water_Supply',axis=1,inplace=True)"
   ]
  },
  {
   "cell_type": "code",
   "execution_count": 129,
   "id": "467657f2",
   "metadata": {},
   "outputs": [
    {
     "data": {
      "text/html": [
       "<div>\n",
       "<style scoped>\n",
       "    .dataframe tbody tr th:only-of-type {\n",
       "        vertical-align: middle;\n",
       "    }\n",
       "\n",
       "    .dataframe tbody tr th {\n",
       "        vertical-align: top;\n",
       "    }\n",
       "\n",
       "    .dataframe thead th {\n",
       "        text-align: right;\n",
       "    }\n",
       "</style>\n",
       "<table border=\"1\" class=\"dataframe\">\n",
       "  <thead>\n",
       "    <tr style=\"text-align: right;\">\n",
       "      <th></th>\n",
       "      <th>Property_ID</th>\n",
       "      <th>Property_Area</th>\n",
       "      <th>Number_of_Windows</th>\n",
       "      <th>Number_of_Doors</th>\n",
       "      <th>Furnishing</th>\n",
       "      <th>Frequency_of_Powercuts</th>\n",
       "      <th>Power_Backup</th>\n",
       "      <th>Traffic_Density_Score</th>\n",
       "      <th>Crime_Rate</th>\n",
       "      <th>Dust_and_Noise</th>\n",
       "      <th>Air_Quality_Index</th>\n",
       "      <th>Neighborhood_Review</th>\n",
       "      <th>Habitability_score</th>\n",
       "      <th>Bungalow</th>\n",
       "      <th>Container Home</th>\n",
       "      <th>Duplex</th>\n",
       "      <th>Single-family home</th>\n",
       "      <th>Once in a day - Evening</th>\n",
       "      <th>Once in a day - Morning</th>\n",
       "      <th>Once in two days</th>\n",
       "    </tr>\n",
       "  </thead>\n",
       "  <tbody>\n",
       "    <tr>\n",
       "      <th>0</th>\n",
       "      <td>0x68d4</td>\n",
       "      <td>733</td>\n",
       "      <td>2.0</td>\n",
       "      <td>2</td>\n",
       "      <td>0</td>\n",
       "      <td>1.0</td>\n",
       "      <td>0</td>\n",
       "      <td>4.37</td>\n",
       "      <td>0</td>\n",
       "      <td>1</td>\n",
       "      <td>96.0</td>\n",
       "      <td>3.55</td>\n",
       "      <td>71.20</td>\n",
       "      <td>0</td>\n",
       "      <td>0</td>\n",
       "      <td>0</td>\n",
       "      <td>0</td>\n",
       "      <td>1</td>\n",
       "      <td>0</td>\n",
       "      <td>0</td>\n",
       "    </tr>\n",
       "    <tr>\n",
       "      <th>1</th>\n",
       "      <td>0x7d81</td>\n",
       "      <td>737</td>\n",
       "      <td>4.0</td>\n",
       "      <td>2</td>\n",
       "      <td>2</td>\n",
       "      <td>0.0</td>\n",
       "      <td>0</td>\n",
       "      <td>7.45</td>\n",
       "      <td>1</td>\n",
       "      <td>1</td>\n",
       "      <td>121.0</td>\n",
       "      <td>3.81</td>\n",
       "      <td>71.39</td>\n",
       "      <td>0</td>\n",
       "      <td>0</td>\n",
       "      <td>0</td>\n",
       "      <td>0</td>\n",
       "      <td>0</td>\n",
       "      <td>1</td>\n",
       "      <td>0</td>\n",
       "    </tr>\n",
       "    <tr>\n",
       "      <th>2</th>\n",
       "      <td>0x7a57</td>\n",
       "      <td>900</td>\n",
       "      <td>3.0</td>\n",
       "      <td>2</td>\n",
       "      <td>0</td>\n",
       "      <td>2.0</td>\n",
       "      <td>1</td>\n",
       "      <td>6.16</td>\n",
       "      <td>3</td>\n",
       "      <td>1</td>\n",
       "      <td>100.0</td>\n",
       "      <td>1.34</td>\n",
       "      <td>31.46</td>\n",
       "      <td>0</td>\n",
       "      <td>0</td>\n",
       "      <td>0</td>\n",
       "      <td>0</td>\n",
       "      <td>0</td>\n",
       "      <td>1</td>\n",
       "      <td>0</td>\n",
       "    </tr>\n",
       "    <tr>\n",
       "      <th>3</th>\n",
       "      <td>0xb0fb</td>\n",
       "      <td>159</td>\n",
       "      <td>2.0</td>\n",
       "      <td>2</td>\n",
       "      <td>1</td>\n",
       "      <td>0.0</td>\n",
       "      <td>1</td>\n",
       "      <td>6.77</td>\n",
       "      <td>0</td>\n",
       "      <td>1</td>\n",
       "      <td>90.0</td>\n",
       "      <td>4.48</td>\n",
       "      <td>80.65</td>\n",
       "      <td>0</td>\n",
       "      <td>0</td>\n",
       "      <td>0</td>\n",
       "      <td>0</td>\n",
       "      <td>0</td>\n",
       "      <td>1</td>\n",
       "      <td>0</td>\n",
       "    </tr>\n",
       "    <tr>\n",
       "      <th>4</th>\n",
       "      <td>0xaf2f</td>\n",
       "      <td>521</td>\n",
       "      <td>1.0</td>\n",
       "      <td>2</td>\n",
       "      <td>1</td>\n",
       "      <td>0.0</td>\n",
       "      <td>0</td>\n",
       "      <td>4.14</td>\n",
       "      <td>0</td>\n",
       "      <td>1</td>\n",
       "      <td>89.0</td>\n",
       "      <td>4.82</td>\n",
       "      <td>73.51</td>\n",
       "      <td>0</td>\n",
       "      <td>0</td>\n",
       "      <td>0</td>\n",
       "      <td>0</td>\n",
       "      <td>0</td>\n",
       "      <td>0</td>\n",
       "      <td>0</td>\n",
       "    </tr>\n",
       "  </tbody>\n",
       "</table>\n",
       "</div>"
      ],
      "text/plain": [
       "  Property_ID  Property_Area  Number_of_Windows  Number_of_Doors  Furnishing  \\\n",
       "0      0x68d4            733                2.0                2           0   \n",
       "1      0x7d81            737                4.0                2           2   \n",
       "2      0x7a57            900                3.0                2           0   \n",
       "3      0xb0fb            159                2.0                2           1   \n",
       "4      0xaf2f            521                1.0                2           1   \n",
       "\n",
       "   Frequency_of_Powercuts  Power_Backup  Traffic_Density_Score  Crime_Rate  \\\n",
       "0                     1.0             0                   4.37           0   \n",
       "1                     0.0             0                   7.45           1   \n",
       "2                     2.0             1                   6.16           3   \n",
       "3                     0.0             1                   6.77           0   \n",
       "4                     0.0             0                   4.14           0   \n",
       "\n",
       "   Dust_and_Noise  Air_Quality_Index  Neighborhood_Review  Habitability_score  \\\n",
       "0               1               96.0                 3.55               71.20   \n",
       "1               1              121.0                 3.81               71.39   \n",
       "2               1              100.0                 1.34               31.46   \n",
       "3               1               90.0                 4.48               80.65   \n",
       "4               1               89.0                 4.82               73.51   \n",
       "\n",
       "   Bungalow  Container Home  Duplex  Single-family home  \\\n",
       "0         0               0       0                   0   \n",
       "1         0               0       0                   0   \n",
       "2         0               0       0                   0   \n",
       "3         0               0       0                   0   \n",
       "4         0               0       0                   0   \n",
       "\n",
       "   Once in a day - Evening  Once in a day - Morning  Once in two days  \n",
       "0                        1                        0                 0  \n",
       "1                        0                        1                 0  \n",
       "2                        0                        1                 0  \n",
       "3                        0                        1                 0  \n",
       "4                        0                        0                 0  "
      ]
     },
     "execution_count": 129,
     "metadata": {},
     "output_type": "execute_result"
    }
   ],
   "source": [
    "df5.head()"
   ]
  },
  {
   "cell_type": "markdown",
   "id": "e40ffa17",
   "metadata": {},
   "source": [
    "##### Now , our all data turns into numerical"
   ]
  },
  {
   "cell_type": "markdown",
   "id": "7171f889",
   "metadata": {},
   "source": [
    "## Saving"
   ]
  },
  {
   "cell_type": "code",
   "execution_count": 134,
   "id": "1ffb4a0a",
   "metadata": {},
   "outputs": [],
   "source": [
    "df5.to_csv(\"../dataframes/mapped_df.csv\",index=False)"
   ]
  },
  {
   "cell_type": "code",
   "execution_count": null,
   "id": "984e660c",
   "metadata": {},
   "outputs": [],
   "source": []
  }
 ],
 "metadata": {
  "kernelspec": {
   "display_name": "Python 3 (ipykernel)",
   "language": "python",
   "name": "python3"
  },
  "language_info": {
   "codemirror_mode": {
    "name": "ipython",
    "version": 3
   },
   "file_extension": ".py",
   "mimetype": "text/x-python",
   "name": "python",
   "nbconvert_exporter": "python",
   "pygments_lexer": "ipython3",
   "version": "3.9.12"
  }
 },
 "nbformat": 4,
 "nbformat_minor": 5
}
